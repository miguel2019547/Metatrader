{
 "cells": [
  {
   "cell_type": "markdown",
   "metadata": {},
   "source": [
    "- Estructura Deuda/Capital\n",
    "$$\n",
    " D/E = \\frac{Deuda Capital}{Capital Propio Total}\n",
    "$$\n",
    "\n",
    "https://es.tradingview.com/symbols/NASDAQ-NVDA/financials-statistics-and-ratios/"
   ]
  },
  {
   "cell_type": "code",
   "execution_count": null,
   "metadata": {},
   "outputs": [],
   "source": [
    "dec = [0.54,0.44,0.46,0.22,0.21,0.27,0.49]\n",
    "years = [2022,2021,2020,2019,2018,2017,2016]"
   ]
  },
  {
   "cell_type": "markdown",
   "metadata": {},
   "source": [
    "- Flujo de Caja Libre\n",
    "https://es.investing.com/equities/nvidia-corp-cash-flow\n",
    "- Costo de deuda antes de impuestos https://es.investing.com/indices/fed-funds-composite-interest-rate + 0.03"
   ]
  },
  {
   "cell_type": "code",
   "execution_count": null,
   "metadata": {},
   "outputs": [],
   "source": [
    "FlujoCajaLibre = 4532.88\n",
    "Intereses = 0.053 + 0.03"
   ]
  }
 ],
 "metadata": {
  "language_info": {
   "name": "python"
  }
 },
 "nbformat": 4,
 "nbformat_minor": 2
}
